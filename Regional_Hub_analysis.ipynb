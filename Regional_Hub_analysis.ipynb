{
 "cells": [
  {
   "cell_type": "markdown",
   "metadata": {},
   "source": [
    "Initiate esipy objects with dev configs and pyswagger cache then demonstrate operability by checking the status of the ccp api server"
   ]
  },
  {
   "cell_type": "code",
   "execution_count": 60,
   "metadata": {},
   "outputs": [
    {
     "name": "stdout",
     "output_type": "stream",
     "text": [
      "Tranquility Status\n",
      "resp_code: 200\n",
      "{'players': 16042, 'server_version': '2138646', 'start_time': <pyswagger.primitives._time.Datetime object at 0x000002A752DCA5C0>}\n"
     ]
    }
   ],
   "source": [
    "from config import *\n",
    "from esipy import EsiApp, EsiClient, EsiSecurity, cache\n",
    "import pandas as pd\n",
    "import json, itertools\n",
    "from pprint import PrettyPrinter\n",
    "\n",
    "pd.set_option('display.float_format', lambda x: '%.2f' % x)\n",
    "pd.set_option('display.expand_frame_repr', False)\n",
    "\n",
    "f_cache = cache.FileCache(path=\"./f_cache\")\n",
    "# create the eve app interface\n",
    "esiapp = EsiApp(cache=f_cache).get_latest_swagger\n",
    "\n",
    "# init the security object\n",
    "esisecurity = EsiSecurity(redirect_uri=ESI_CALLBACK,\n",
    "                          client_id=ESI_CLIENT_ID,\n",
    "                          secret_key=ESI_SECRET_KEY,\n",
    "                          headers={'User-Agent': ESI_USER_AGENT})\n",
    "\n",
    "# init the client\n",
    "esiclient = EsiClient(security=esisecurity,\n",
    "                      cache=f_cache,\n",
    "                      headers={'User-Agent': ESI_USER_AGENT})\n",
    "\n",
    "#  server_request_names = [k for k in esiapp.op.keys()] OR https://esi.evetech.net/\n",
    "ccp_resp = esiclient.request(esiapp.op['get_status']())\n",
    "print(f'Tranquility Status\\nresp_code: {ccp_resp.status}\\n{ccp_resp.data}')\n",
    "\n",
    "def get_unique_region_ids():\n",
    "    return pd.read_parquet(\"everefread\")[\"regionID\"].unique().tolist()\n",
    "\n",
    "\n",
    "def req_all_region_order_pages():\n",
    "    ops = []\n",
    "    for id in get_unique_region_ids():\n",
    "        ops.append(esiapp.op['get_markets_region_id_orders'](region_id=id))\n",
    "    results = []\n",
    "    for rq, rs in esiclient.multi_request(ops, raw_body_only=True):\n",
    "        if rs.status == 200:\n",
    "            pages = rs.header['X-Pages'][0]\n",
    "            region = rq._Request__p.get('path')['region_id']\n",
    "        results.append((region, pages))\n",
    "    return results\n",
    "\n",
    "\n",
    "def gen_region_market_requests(reg_id_pages:tuple):\n",
    "    reg_id = reg_id_pages[0]\n",
    "    pages = reg_id_pages[1]\n",
    "    esiapp.op['get_markets_region_id_orders'](region_id=reg_id)\n",
    "    operations = []\n",
    "    for page in range(1, pages + 1):\n",
    "        operations.append(esiapp.op['get_markets_region_id_orders'](\n",
    "                region_id=reg_id, page=page))\n",
    "    return operations"
   ]
  },
  {
   "cell_type": "markdown",
   "metadata": {},
   "source": [
    "Next we request all region market ids and page counts.<br>\n",
    "build a flat list of requests to send concurrently via esiclient<br>\n",
    "send it and save resp in memory"
   ]
  },
  {
   "cell_type": "code",
   "execution_count": 61,
   "metadata": {},
   "outputs": [],
   "source": [
    "ids_and_pages = req_all_region_order_pages()\n",
    "req_bucket = list(map(gen_region_market_requests,ids_and_pages))\n",
    "flat_req_bucket = list(itertools.chain(*req_bucket))\n",
    "market_responses = esiclient.multi_request(flat_req_bucket, raw_body_only=True)"
   ]
  },
  {
   "cell_type": "markdown",
   "metadata": {},
   "source": [
    "iterate over the json responses and build a dataframe with the unpacked orders and recovered region_id that goes with it"
   ]
  },
  {
   "cell_type": "code",
   "execution_count": 62,
   "metadata": {},
   "outputs": [
    {
     "name": "stdout",
     "output_type": "stream",
     "text": [
      "           region  duration  is_buy_order                issued    location_id  min_volume    order_id        price        range  system_id  type_id  volume_remain  volume_total\n",
      "0        10000001        90         False  2022-10-07T11:40:36Z       60013867           1  6350667776    640000.00       region   30000019      380              1             2\n",
      "1        10000001        90         False  2022-09-11T13:44:56Z       60012550           1  6336053255   1998000.00       region   30000109    21790              1             1\n",
      "2        10000001        90         False  2022-10-20T17:48:08Z       60014452           1  6335605419    900000.00       region   30000112     2869            100           100\n",
      "3        10000001        90         False  2022-07-31T20:59:26Z       60013024           1  6311280660         7.20       region   30000030      216          24000         70000\n",
      "4        10000001        90         False  2022-10-06T13:05:32Z       60013867           1  6350176279 200000000.00       region   30000019    34590              2             2\n",
      "...           ...       ...           ...                   ...            ...         ...         ...          ...          ...        ...      ...            ...           ...\n",
      "1205705  10000005        90          True  2022-08-29T20:23:59Z  1039762863146           1  6328659579   8010000.00            2   30000451    55932              3             3\n",
      "1205706  10000005        90          True  2022-08-24T09:23:32Z  1032040302179           1  6325328183     50000.00       region   30000492    30744            100           100\n",
      "1205707  10000005        90          True  2022-08-24T09:21:55Z  1032040302179           1  6325327830    500000.00       region   30000492    30746             10            10\n",
      "1205708  10000056        90          True  2022-10-06T11:22:01Z  1039968106331           1  6350142359     11100.00  solarsystem   30004472     3689           3800          4000\n",
      "1205709  10000056        90          True  2022-10-06T11:25:39Z  1039968106331           1  6350143341     11500.00  solarsystem   30004472       44            680          4000\n",
      "\n",
      "[1205710 rows x 13 columns]\n"
     ]
    }
   ],
   "source": [
    "total_eve_orders = []\n",
    "for rq, rs in market_responses:\n",
    "    if rs.status == 200:\n",
    "        for rec in json.loads(rs.raw):\n",
    "            region = rq._Request__p.get('path')['region_id']\n",
    "            total_eve_orders.append({'region':region,**rec})\n",
    "pp = PrettyPrinter(width=180, compact=True)\n",
    "pp.pprint(pd.DataFrame(total_eve_orders))"
   ]
  },
  {
   "cell_type": "markdown",
   "metadata": {},
   "source": [
    "analyze the raw data in the dataframe and build our view from scratch.<br>\n",
    "we will use the following columns:<br>\n",
    "* region\n",
    "* type_id\n",
    "* price\n",
    "* volume_remain\n",
    "* location_id\n",
    "* system_id\n",
    "* is_buy_order\n",
    "\n",
    "we will use the following derived columns:<br>\n",
    "*sell_order_value = price * volume_remain*<br>\n",
    "\n",
    "omit all buy orders from analysis<br>\n",
    "iterate the view over all unique regions<br>\n",
    "    get regional order count from view shape[0]<br>\n",
    "    get most popular location_id from view as regional_hub with location_id.mode()<br>\n",
    "    get most popular system_id from view as solar_system hub with system_id.mode()<br>\n",
    "    get hub_market_value from location_id view as sum of sell_order_value<br>\n",
    "    get hub_orders_count from location_id view with shape[0]<br>\n",
    "    get hub_unique_items from location_id view as type_id.unique<br>\n",
    "\n",
    "build a list(dict()) from the regional hub analysis<br>"
   ]
  },
  {
   "cell_type": "code",
   "execution_count": 63,
   "metadata": {},
   "outputs": [],
   "source": [
    "total_eve_orders = pd.DataFrame(total_eve_orders)\n",
    "total_eve_orders['sell_order_value'] = total_eve_orders.price * total_eve_orders.volume_remain\n",
    "total_eve_sell_orders = total_eve_orders[total_eve_orders.is_buy_order == False]\n",
    "\n",
    "systems = []\n",
    "\n",
    "for reg_id in total_eve_sell_orders.region.unique():\n",
    "    region_sell_orders = total_eve_sell_orders[total_eve_sell_orders.region == reg_id]\n",
    "    regional_orders_count = region_sell_orders.shape[0]\n",
    "    regional_hub_id = region_sell_orders.location_id.mode()[0]\n",
    "    solar_system = region_sell_orders[region_sell_orders.location_id ==\n",
    "                                        regional_hub_id].system_id.mode()[0]\n",
    "    hub_sell_orders = region_sell_orders[region_sell_orders.location_id ==\n",
    "                                        regional_hub_id]\n",
    "\n",
    "    hub_market_value = hub_sell_orders.sell_order_value.sum()\n",
    "    hub_orders_count = hub_sell_orders.shape[0]\n",
    "    hub_unique_items = hub_sell_orders.type_id.unique().shape[0]\n",
    "\n",
    "\n",
    "    systems.append({'region': int(reg_id), 'regional_hub': int(regional_hub_id),'unique_items': int(hub_unique_items), 'regional_order_count': int(regional_orders_count), 'hub_total_orders': int(hub_orders_count), 'hub_market_value': float(hub_market_value)})\n"
   ]
  },
  {
   "cell_type": "markdown",
   "metadata": {},
   "source": [
    "use list(dict()) to build a dataframe from the regional hub analysis<br>\n",
    "calculate the regional hub market orders share as a percentage of the total market orders<br>\n",
    "get names to region_id, location_id from the eve api<br>\n",
    "merge all responses to final dataframe<br>"
   ]
  },
  {
   "cell_type": "code",
   "execution_count": 64,
   "metadata": {},
   "outputs": [
    {
     "name": "stdout",
     "output_type": "stream",
     "text": [
      "          name_x                                             name_y    region  regional_hub  unique_items  regional_order_count  hub_total_orders    hub_market_value  hub_regional_order_ratio\n",
      "0      The Forge     Jita IV - Moon 4 - Caldari Navy Assembly Plant  10000002      60003760         14226                198039            166931  170939133325952.88                     84.30\n",
      "28        Domain         Amarr VIII (Oris) - Emperor Family Academy  10000043      60008494          9476                 95384             52346    7902528142589.25                     54.90\n",
      "1    Sinq Laison  Dodixie IX - Moon 20 - Federation Navy Assembl...  10000032      60011866          8112                 65610             31168  135299161206341.81                     47.50\n",
      "33      Heimatar           Rens VI - Moon 8 - Brutor Tribe Treasury  10000030      60004588          6431                 47590             18176    2166499100089.66                     38.20\n",
      "2     Metropolis    Hek VIII - Moon 12 - Boundless Creation Factory  10000042      60005686          6348                 71594             17591 1257548791473834.50                     24.60\n",
      "29      Lonetrek       Akiainavas III - School of Applied Knowledge  10000016      60015001          1797                 55414              3258   23742930382024.32                      5.90\n",
      "24  Verge Vendor  Clellinon VI - Moon 11 - Center for Advanced S...  10000068      60015036          1607                 21427              2748   18099356591072.64                     12.80\n",
      "22       Essence         Couster II - Moon 1 - Federal Navy Academy  10000064      60015029          1563                 29804              2568   16881300314205.07                      8.60\n",
      "25    Everyshore  Leremblompes IV - Moon 11 - Center for Advance...  10000037      60014725          2059                 18409              2080   18039686497189.12                     11.30\n",
      "12       Genesis    Tar III - Secure Commerce Commission Depository  10000067      60012739          1578                 21980              1690    1306158592639.11                      7.70\n"
     ]
    }
   ],
   "source": [
    "pp = PrettyPrinter(width=150,compact=True)\n",
    "df_orders = pd.DataFrame(systems)\n",
    "df_orders['hub_regional_order_ratio'] = round((df_orders.hub_total_orders / df_orders.regional_order_count) * 100,1)\n",
    "id_list = df_orders.regional_hub.to_list()\n",
    "req = esiapp.op['post_universe_names'](ids=id_list)\n",
    "ccp_resp = esiclient.request(req)\n",
    "with_sta_names = pd.DataFrame().from_records(ccp_resp.data).merge(\n",
    "    df_orders, left_on='id', right_on='regional_hub').drop(columns=['id', 'category'])\n",
    "\n",
    "id_list = with_sta_names.region.to_list()\n",
    "req = esiapp.op['post_universe_names'](ids=id_list)\n",
    "ccp_resp = esiclient.request(req)\n",
    "pp.pprint(pd.DataFrame().from_records(ccp_resp.data).merge( with_sta_names, left_on='id', right_on='region').sort_values('hub_total_orders', ascending=False).drop(columns=['id', 'category']).head(10))\n"
   ]
  }
 ],
 "metadata": {
  "kernelspec": {
   "display_name": "Python 3.10.4 ('hkvenv': venv)",
   "language": "python",
   "name": "python3"
  },
  "language_info": {
   "codemirror_mode": {
    "name": "ipython",
    "version": 3
   },
   "file_extension": ".py",
   "mimetype": "text/x-python",
   "name": "python",
   "nbconvert_exporter": "python",
   "pygments_lexer": "ipython3",
   "version": "3.10.4"
  },
  "orig_nbformat": 4,
  "vscode": {
   "interpreter": {
    "hash": "4df0224d48996e96262b250194fe03574642be2dc2a012fc4bae773d58459c83"
   }
  }
 },
 "nbformat": 4,
 "nbformat_minor": 2
}
