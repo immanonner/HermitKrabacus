{
 "cells": [
  {
   "cell_type": "markdown",
   "metadata": {},
   "source": [
    "Initiate esipy objects with dev configs and pyswagger cache then demonstrate operability by checking the status of the ccp api server"
   ]
  },
  {
   "cell_type": "code",
   "execution_count": 11,
   "metadata": {},
   "outputs": [
    {
     "name": "stdout",
     "output_type": "stream",
     "text": [
      "Tranquility Status\n",
      "resp_code: 200\n",
      "{'players': 15660, 'server_version': '2143960', 'start_time': <pyswagger.primitives._time.Datetime object at 0x000001CFECC56DA0>}\n"
     ]
    }
   ],
   "source": [
    "from config import *\n",
    "from esipy import EsiApp, EsiClient, EsiSecurity, cache\n",
    "import pandas as pd\n",
    "import json, itertools\n",
    "from pprint import PrettyPrinter\n",
    "\n",
    "pd.set_option('display.float_format', lambda x: '%.2f' % x)\n",
    "pd.set_option('display.expand_frame_repr', False)\n",
    "\n",
    "f_cache = cache.FileCache(path=\"./f_cache\")\n",
    "# create the eve app interface\n",
    "esiapp = EsiApp(cache=f_cache).get_latest_swagger\n",
    "\n",
    "# init the security object\n",
    "esisecurity = EsiSecurity(redirect_uri=ESI_CALLBACK,\n",
    "                          client_id=ESI_CLIENT_ID,\n",
    "                          secret_key=ESI_SECRET_KEY,\n",
    "                          headers={'User-Agent': ESI_USER_AGENT})\n",
    "\n",
    "# init the client\n",
    "esiclient = EsiClient(security=esisecurity,\n",
    "                      cache=f_cache,\n",
    "                      headers={'User-Agent': ESI_USER_AGENT})\n",
    "\n",
    "#  server_request_names = [k for k in esiapp.op.keys()] OR https://esi.evetech.net/\n",
    "ccp_resp = esiclient.request(esiapp.op['get_status']())\n",
    "print(f'Tranquility Status\\nresp_code: {ccp_resp.status}\\n{ccp_resp.data}')\n",
    "\n",
    "def get_unique_region_ids():\n",
    "    return pd.read_parquet(\"everefread\")[\"regionID\"].unique().tolist()\n",
    "\n",
    "\n",
    "def req_all_region_order_pages():\n",
    "    ops = []\n",
    "    for id in get_unique_region_ids():\n",
    "        ops.append(esiapp.op['get_markets_region_id_orders'](region_id=id))\n",
    "    results = []\n",
    "    for rq, rs in esiclient.multi_request(ops, raw_body_only=True):\n",
    "        if rs.status == 200:\n",
    "            pages = rs.header['X-Pages'][0]\n",
    "            region = rq._Request__p.get('path')['region_id']\n",
    "        results.append((region, pages))\n",
    "    return results\n",
    "\n",
    "\n",
    "def gen_region_market_requests(reg_id_pages:tuple):\n",
    "    reg_id = reg_id_pages[0]\n",
    "    pages = reg_id_pages[1]\n",
    "    esiapp.op['get_markets_region_id_orders'](region_id=reg_id)\n",
    "    operations = []\n",
    "    for page in range(1, pages + 1):\n",
    "        operations.append(esiapp.op['get_markets_region_id_orders'](\n",
    "                region_id=reg_id, page=page))\n",
    "    return operations"
   ]
  },
  {
   "cell_type": "markdown",
   "metadata": {},
   "source": [
    "Next we request all region market ids and page counts.<br>\n",
    "build a flat list of requests to send concurrently via esiclient<br>\n",
    "send it and save resp in memory"
   ]
  },
  {
   "cell_type": "code",
   "execution_count": 12,
   "metadata": {},
   "outputs": [],
   "source": [
    "ids_and_pages = req_all_region_order_pages()\n",
    "req_bucket = list(map(gen_region_market_requests,ids_and_pages))\n",
    "flat_req_bucket = list(itertools.chain(*req_bucket))\n",
    "market_responses = esiclient.multi_request(flat_req_bucket, raw_body_only=True)"
   ]
  },
  {
   "cell_type": "markdown",
   "metadata": {},
   "source": [
    "iterate over the json responses and build a dataframe with the unpacked orders and recovered region_id that goes with it"
   ]
  },
  {
   "cell_type": "code",
   "execution_count": 13,
   "metadata": {},
   "outputs": [
    {
     "name": "stdout",
     "output_type": "stream",
     "text": [
      "           region  duration  is_buy_order                issued    location_id  min_volume    order_id        price        range  system_id  type_id  volume_remain  volume_total\n",
      "0        10000001        90         False  2022-09-11T13:44:56Z       60012550           1  6336053255   1998000.00       region   30000109    21790              1             1\n",
      "1        10000001        90         False  2022-10-20T17:48:08Z       60014452           1  6335605419    900000.00       region   30000112     2869            100           100\n",
      "2        10000001        90         False  2022-10-06T13:05:32Z       60013867           1  6350176279 200000000.00       region   30000019    34590              2             2\n",
      "3        10000001        30         False  2022-10-06T18:03:00Z       60014452           1  6350307356        30.00       region   30000112      222          16200         30000\n",
      "4        10000001        90         False  2022-08-10T16:02:23Z       60012136           1  6170012335    199000.00       region   30000102    25719             94            94\n",
      "...           ...       ...           ...                   ...            ...         ...         ...          ...          ...        ...      ...            ...           ...\n",
      "1208815  11000031        90          True  2022-09-28T15:23:22Z       60015148           1  6345744326         0.67  solarsystem   31000005       34         980279       1000000\n",
      "1208816  11000031        90          True  2022-08-21T14:54:00Z       60015148           1  6323724265     40000.00  solarsystem   31000005    11399           1000          1000\n",
      "1208817  10000056        90          True  2022-10-06T11:22:01Z  1039968106331           1  6350142359     11100.00  solarsystem   30004472     3689           3295          4000\n",
      "1208818  10000056        90          True  2022-10-23T09:47:42Z  1039968106331           1  6359805039      1000.00       region   30004472    16275         993281       1000000\n",
      "1208819  10000056        90          True  2022-10-23T13:21:04Z  1039968106331           1  6359913628   3000000.00           40   30004472    44992            500           500\n",
      "\n",
      "[1208820 rows x 13 columns]\n"
     ]
    }
   ],
   "source": [
    "total_eve_orders = []\n",
    "for rq, rs in market_responses:\n",
    "    if rs.status == 200:\n",
    "        for rec in json.loads(rs.raw):\n",
    "            region = rq._Request__p.get('path')['region_id']\n",
    "            total_eve_orders.append({'region':region,**rec})\n",
    "pp = PrettyPrinter(width=180, compact=True)\n",
    "pp.pprint(pd.DataFrame(total_eve_orders))"
   ]
  },
  {
   "cell_type": "markdown",
   "metadata": {},
   "source": [
    "analyze the raw data in the dataframe and build our view from scratch.<br>\n",
    "we will use the following columns:<br>\n",
    "* region\n",
    "* type_id\n",
    "* price\n",
    "* volume_remain\n",
    "* location_id\n",
    "* system_id\n",
    "* is_buy_order\n",
    "\n",
    "we will use the following derived columns:<br>\n",
    "*sell_order_value = price * volume_remain*<br>\n",
    "\n",
    "omit all buy orders from analysis<br>\n",
    "iterate the view over all unique regions<br>\n",
    "    get regional order count from view shape[0]<br>\n",
    "    get most popular location_id from view as regional_hub with location_id.mode()<br>\n",
    "    get most popular system_id from view as solar_system hub with system_id.mode()<br>\n",
    "    get hub_market_value from location_id view as sum of sell_order_value<br>\n",
    "    get hub_orders_count from location_id view with shape[0]<br>\n",
    "    get hub_unique_items from location_id view as type_id.unique<br>\n",
    "\n",
    "build a list(dict()) from the regional hub analysis<br>"
   ]
  },
  {
   "cell_type": "code",
   "execution_count": 14,
   "metadata": {},
   "outputs": [],
   "source": [
    "total_eve_orders = pd.DataFrame(total_eve_orders)\n",
    "total_eve_orders['sell_order_value'] = total_eve_orders.price * total_eve_orders.volume_remain\n",
    "total_eve_sell_orders = total_eve_orders[total_eve_orders.is_buy_order == False]\n",
    "\n",
    "systems = []\n",
    "\n",
    "for reg_id in total_eve_sell_orders.region.unique():\n",
    "    region_sell_orders = total_eve_sell_orders[total_eve_sell_orders.region == reg_id]\n",
    "    regional_orders_count = region_sell_orders.shape[0]\n",
    "    regional_hub_id = region_sell_orders.location_id.mode()[0]\n",
    "    solar_system = region_sell_orders[region_sell_orders.location_id ==\n",
    "                                        regional_hub_id].system_id.mode()[0]\n",
    "    hub_sell_orders = region_sell_orders[region_sell_orders.location_id ==\n",
    "                                        regional_hub_id]\n",
    "\n",
    "    hub_market_value = hub_sell_orders.sell_order_value.sum()\n",
    "    hub_orders_count = hub_sell_orders.shape[0]\n",
    "    hub_unique_items = hub_sell_orders.type_id.unique().shape[0]\n",
    "\n",
    "\n",
    "    systems.append({'region': int(reg_id), 'regional_hub': int(regional_hub_id),'unique_items': int(hub_unique_items), 'regional_order_count': int(regional_orders_count), 'hub_total_orders': int(hub_orders_count), 'hub_market_value': float(hub_market_value)})\n"
   ]
  },
  {
   "cell_type": "markdown",
   "metadata": {},
   "source": [
    "use list(dict()) to build a dataframe from the regional hub analysis<br>\n",
    "calculate the regional hub market orders share as a percentage of the total market orders<br>\n",
    "get names to region_id, location_id from the eve api<br>\n",
    "merge all responses to final dataframe<br>"
   ]
  },
  {
   "cell_type": "code",
   "execution_count": 15,
   "metadata": {},
   "outputs": [
    {
     "name": "stdout",
     "output_type": "stream",
     "text": [
      "          name_x                                             name_y    region  regional_hub  unique_items  regional_order_count  hub_total_orders    hub_market_value  hub_regional_order_ratio\n",
      "0      The Forge     Jita IV - Moon 4 - Caldari Navy Assembly Plant  10000002      60003760         14179                198663            167484  172639583817178.91                     84.30\n",
      "16        Domain         Amarr VIII (Oris) - Emperor Family Academy  10000043      60008494          9380                 95605             52205    8071796322429.52                     54.60\n",
      "1    Sinq Laison  Dodixie IX - Moon 20 - Federation Navy Assembl...  10000032      60011866          8207                 66464             32101  135323982900031.19                     48.30\n",
      "27      Heimatar           Rens VI - Moon 8 - Brutor Tribe Treasury  10000030      60004588          6371                 47345             17836    2174089444283.75                     37.70\n",
      "19    Metropolis    Hek VIII - Moon 12 - Boundless Creation Factory  10000042      60005686          6373                 71547             17537 1257581827497469.75                     24.50\n",
      "8       Lonetrek       Akiainavas III - School of Applied Knowledge  10000016      60015001          1816                 55222              3317   23752280600308.26                      6.00\n",
      "18       Essence         Couster II - Moon 1 - Federal Navy Academy  10000064      60015029          1543                 29819              2557   16877656837900.58                      8.60\n",
      "2   Verge Vendor  Clellinon VI - Moon 11 - Center for Advanced S...  10000068      60015036          1557                 21173              2554   18075315518425.49                     12.10\n",
      "4     Everyshore  Leremblompes IV - Moon 11 - Center for Advance...  10000037      60014725          2067                 18523              2087   18039139183310.11                     11.30\n",
      "21       Genesis    Tar III - Secure Commerce Commission Depository  10000067      60012739          1594                 22151              1727    1301166666613.88                      7.80\n"
     ]
    }
   ],
   "source": [
    "pp = PrettyPrinter(width=150,compact=True)\n",
    "df_orders = pd.DataFrame(systems)\n",
    "df_orders['hub_regional_order_ratio'] = round((df_orders.hub_total_orders / df_orders.regional_order_count) * 100,1)\n",
    "id_list = df_orders.regional_hub.to_list()\n",
    "req = esiapp.op['post_universe_names'](ids=id_list)\n",
    "ccp_resp = esiclient.request(req)\n",
    "with_sta_names = pd.DataFrame().from_records(ccp_resp.data).merge(\n",
    "    df_orders, left_on='id', right_on='regional_hub').drop(columns=['id', 'category'])\n",
    "\n",
    "id_list = with_sta_names.region.to_list()\n",
    "req = esiapp.op['post_universe_names'](ids=id_list)\n",
    "ccp_resp = esiclient.request(req)\n",
    "pp.pprint(pd.DataFrame().from_records(ccp_resp.data).merge( with_sta_names, left_on='id', right_on='region').sort_values('hub_total_orders', ascending=False).drop(columns=['id', 'category']).head(10))\n"
   ]
  }
 ],
 "metadata": {
  "kernelspec": {
   "display_name": "Python 3.10.4 ('hkvenv': venv)",
   "language": "python",
   "name": "python3"
  },
  "language_info": {
   "codemirror_mode": {
    "name": "ipython",
    "version": 3
   },
   "file_extension": ".py",
   "mimetype": "text/x-python",
   "name": "python",
   "nbconvert_exporter": "python",
   "pygments_lexer": "ipython3",
   "version": "3.10.4"
  },
  "orig_nbformat": 4,
  "vscode": {
   "interpreter": {
    "hash": "4df0224d48996e96262b250194fe03574642be2dc2a012fc4bae773d58459c83"
   }
  }
 },
 "nbformat": 4,
 "nbformat_minor": 2
}
